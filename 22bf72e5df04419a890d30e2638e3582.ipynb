{
  "nbformat": 4,
  "nbformat_minor": 0,
  "metadata": {
    "colab": {
      "provenance": [],
      "include_colab_link": true
    },
    "kernelspec": {
      "name": "python3",
      "display_name": "Python 3"
    },
    "language_info": {
      "name": "python"
    }
  },
  "cells": [
    {
      "cell_type": "markdown",
      "metadata": {
        "id": "view-in-github",
        "colab_type": "text"
      },
      "source": [
        "<a href=\"https://colab.research.google.com/github/Bonilapa/BCR2022/blob/main/22bf72e5df04419a890d30e2638e3582.ipynb\" target=\"_parent\"><img src=\"https://colab.research.google.com/assets/colab-badge.svg\" alt=\"Open In Colab\"/></a>"
      ]
    },
    {
      "cell_type": "code",
      "source": [
        "!git clone https://github.com/Bonilapa/human.git"
      ],
      "metadata": {
        "colab": {
          "base_uri": "https://localhost:8080/"
        },
        "id": "JevrPiU3VX8j",
        "outputId": "a5c8d0ab-5cfd-478f-b24c-92fa0bd4bdfb"
      },
      "execution_count": 2,
      "outputs": [
        {
          "output_type": "stream",
          "name": "stdout",
          "text": [
            "Cloning into 'human'...\n",
            "remote: Enumerating objects: 20, done.\u001b[K\n",
            "remote: Counting objects: 100% (20/20), done.\u001b[K\n",
            "remote: Compressing objects: 100% (13/13), done.\u001b[K\n",
            "remote: Total 20 (delta 5), reused 15 (delta 3), pack-reused 0\u001b[K\n",
            "Receiving objects: 100% (20/20), done.\n",
            "Resolving deltas: 100% (5/5), done.\n"
          ]
        }
      ]
    },
    {
      "cell_type": "markdown",
      "source": [
        "Создайте словарь, cоответствующий следующему описанию:\n",
        "\n",
        "В честь 8 марта начальник отдела Валера решил принести на работу коробку конфет и угостить коллег :) Красотка Наташа съела две конфеты, ее подруга Алина - целых три, разработчик Марат унес с собой в соседний опен-спейс целых пятнадцать, чтобы поделиться со своей командой, менеджер проекта Лев проходил мимо и съел одну конфету, а сам Валера, будучи сторонником здорового образа жизни, ни съел ни одной."
      ],
      "metadata": {
        "id": "P0xVLvAPE2bQ"
      }
    },
    {
      "cell_type": "markdown",
      "source": [],
      "metadata": {
        "id": "HOijC5utWrqq"
      }
    },
    {
      "cell_type": "code",
      "source": [
        "!"
      ],
      "metadata": {
        "id": "LqAXf0SDWNiC"
      },
      "execution_count": 5,
      "outputs": []
    },
    {
      "cell_type": "code",
      "source": [
        "!pwd"
      ],
      "metadata": {
        "colab": {
          "base_uri": "https://localhost:8080/"
        },
        "id": "ARd-VcVvWVO-",
        "outputId": "5cb2bbfd-9b11-4a09-af3b-00dd9ee039e5"
      },
      "execution_count": 6,
      "outputs": [
        {
          "output_type": "stream",
          "name": "stdout",
          "text": [
            "/content\n"
          ]
        }
      ]
    },
    {
      "cell_type": "code",
      "execution_count": null,
      "metadata": {
        "colab": {
          "base_uri": "https://localhost:8080/"
        },
        "id": "anohouT1E1XN",
        "outputId": "0ade943c-13cb-465b-b505-e245404aec1c"
      },
      "outputs": [
        {
          "output_type": "stream",
          "name": "stdout",
          "text": [
            "{'Наташа': 2, 'Алина': 3, 'Марат': 15, 'Лев': 1, 'Валера': 0}\n"
          ]
        }
      ],
      "source": [
        "\n",
        "dict_sample = {'Наташа': 2, 'Алина': 3, 'Марат': 15, 'Лев': 1, 'Валера': 0}\n",
        "print(dict_sample)"
      ]
    },
    {
      "cell_type": "markdown",
      "source": [
        "Добавьте в словарь из предыдущего задания данные для студента Ромы, который работает неполный рабочий день, и, придя на работу после экзамена, с удовольствием съел 4 конфеты"
      ],
      "metadata": {
        "id": "sEcJn_OtIIkN"
      }
    },
    {
      "cell_type": "code",
      "source": [
        "dict_sample['Рома'] = 4\n",
        "print(dict_sample)"
      ],
      "metadata": {
        "colab": {
          "base_uri": "https://localhost:8080/"
        },
        "id": "Xb8mu7xhISMt",
        "outputId": "29920be7-74e2-4032-a6ed-ca31eb185be7"
      },
      "execution_count": null,
      "outputs": [
        {
          "output_type": "stream",
          "name": "stdout",
          "text": [
            "{'Наташа': 2, 'Алина': 3, 'Марат': 15, 'Лев': 1, 'Валера': 0, 'Рома': 4}\n"
          ]
        }
      ]
    },
    {
      "cell_type": "markdown",
      "source": [
        "Выведите на экран следующий паттерн:\n",
        "\n",
        "@\n",
        "\n",
        "@ @\n",
        "\n",
        "@ @ @\n",
        "\n",
        "@ @ @ @ @\n",
        "\n",
        "Обратите внимание на пробел между символами\n"
      ],
      "metadata": {
        "id": "_Icla1VeIkCI"
      }
    },
    {
      "cell_type": "code",
      "source": [
        "def at(s, n):\n",
        "  for i in range(n):\n",
        "    print(s, end = ' ')\n",
        "  print()\n",
        "\n",
        "at('@', 1)\n",
        "at('@', 2)\n",
        "at('@', 3)\n",
        "at('@', 5)"
      ],
      "metadata": {
        "colab": {
          "base_uri": "https://localhost:8080/"
        },
        "id": "N2E0e8LSRq4S",
        "outputId": "91417038-3f9c-4e7c-8330-e02663f586a1"
      },
      "execution_count": null,
      "outputs": [
        {
          "output_type": "stream",
          "name": "stdout",
          "text": [
            "@ \n",
            "@ @ \n",
            "@ @ @ \n",
            "@ @ @ @ @ \n"
          ]
        }
      ]
    },
    {
      "cell_type": "markdown",
      "source": [
        "Используя цикл while, выведите на экран таблицу умножения для числа 7"
      ],
      "metadata": {
        "id": "zIIrjfuyIyT1"
      }
    },
    {
      "cell_type": "code",
      "source": [
        "a=int(input())\n",
        "b=int(input())\n",
        "def table_multiply(a, b):\n",
        "    i = 1\n",
        "    while i < b + 1:\n",
        "      print(f'{a} * {i} = {a * i}')\n",
        "      i += 1\n",
        "table_multiply(a,b)\n"
      ],
      "metadata": {
        "colab": {
          "base_uri": "https://localhost:8080/"
        },
        "id": "V7MDyiWPJgFO",
        "outputId": "2da5daf3-9ad2-49f9-a29d-2739946fb095"
      },
      "execution_count": null,
      "outputs": [
        {
          "output_type": "stream",
          "name": "stdout",
          "text": [
            "7\n",
            "15\n",
            "7 * 1 = 7\n",
            "7 * 2 = 14\n",
            "7 * 3 = 21\n",
            "7 * 4 = 28\n",
            "7 * 5 = 35\n",
            "7 * 6 = 42\n",
            "7 * 7 = 49\n",
            "7 * 8 = 56\n",
            "7 * 9 = 63\n",
            "7 * 10 = 70\n",
            "7 * 11 = 77\n",
            "7 * 12 = 84\n",
            "7 * 13 = 91\n",
            "7 * 14 = 98\n",
            "7 * 15 = 105\n"
          ]
        }
      ]
    },
    {
      "cell_type": "code",
      "source": [],
      "metadata": {
        "id": "pmFqN2V8-pBc"
      },
      "execution_count": null,
      "outputs": []
    }
  ]
}